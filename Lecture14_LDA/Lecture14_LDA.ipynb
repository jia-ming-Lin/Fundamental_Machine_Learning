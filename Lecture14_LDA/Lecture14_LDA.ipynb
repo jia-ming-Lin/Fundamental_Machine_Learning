{
 "cells": [
  {
   "cell_type": "markdown",
   "metadata": {},
   "source": [
    "# Dicriminant Analysis\n",
    "\n",
    "* So far, we have seen methods for regression, classification, and clustering. Today, let's look again at classification.\n",
    "* The goal in *classification* is to take an input vector, **x**, and assign it to one of K discrete classes.  \n",
    "* Usually this is done by learning *decision boundaries* or *decision surfaces* that divide up the feature space and assign a class to each partition of the feature space created by the decision boundary. \n",
    "* Data whose classes can be separated perfectly with a linear decision surface (i.e., a line in 2-D, a plane in 3-D, etc) are called *linearly separable.* These are the easiest classification problems to address. \n",
    "* You can encode class labels in a number of ways: binary vectors, class number, etc.  Different encodings make sense in different situations.  But you want to select carefully - depending on the algorithm you use, it can make a difference. "
   ]
  },
  {
   "cell_type": "markdown",
   "metadata": {},
   "source": [
    "## Fisher's Linear Discriminant\n",
    "\n",
    "* We will begin with linear discriminant functions:\n",
    "\\begin{equation}\n",
    "y(\\mathbf{x}) = \\mathbf{w}^T\\mathbf{x} + w_0\n",
    "\\end{equation}\n",
    "\n",
    "* *Looks pretty familiar, right?* If you are on one side of the line, then you are in class 1.  If you are on the other side of the line, then you are in class 2.  So, the decision boundary is $y(\\mathbf{x}) = 0$\n",
    "* The distance of a point to the decision boundary is: $\\frac{y(\\mathbf{x})}{\\left\\| \\mathbf{w} \\right\\|}$  See Figure 4.1 from textbook. \n",
    "\n",
    "* We could use a least squares error function to solve for $\\mathbf{w}$ and $w_0$ as we did in regression.  But, there are some issues.  *Can you think of any?*\n",
    "* A more effective (and well-known) approach is *Fisher's Linear Discriminant*\n",
    "* Given two classes, we can compute the mean of each class:\n",
    "\\begin{equation}\n",
    "\\mathbf{m}_1 = \\frac{1}{{N}_1}\\sum_{n\\in C_1} \\mathbf{x}_n, \\quad \\mathbf{m}_2 = \\frac{1}{N_2}\\sum_{n\\in C_2} \\mathbf{x}_n\n",
    "\\end{equation}\n",
    "* So, we could try to maximize the separation of the means:\n",
    "\\begin{equation}\n",
    "m_2 - m_1 = \\mathbf{w}^T(\\mathbf{m}_2 - \\mathbf{m}_1)\n",
    "\\end{equation}\n",
    "* This is like an optimal *dimensionality reduction*. $\\mathbf{w}^T\\mathbf{x}$ takes a $D$ dimensional data point and projects it down to 1-D with a weight sum of the original features.  We want to find a weighting that maximizes the separation of the class means. \n",
    "* Not only do we want well separate means for each class, but we also want each class to be *compact* to minimize overlap between the classes. \n",
    "* Consider the *within class variance:*\n",
    "\n",
    "\\begin{equation}\n",
    "s_k^2 = \\sum_{n \\in C_k} (y_n - m_k)^2 = \\sum_{n \\in C_k} (\\mathbf{w}^T\\mathbf{x}_n - m_k)^2\n",
    "\\end{equation}\n",
    "* So, we want to minimize within class variance and maximize between class separability.  How about the following objective function:\n",
    "\n",
    "\\begin{eqnarray}\n",
    "J(\\mathbf{w}) &=& \\frac{(m_2 - m_1)^2}{s_1^2 + s_2^2}\\\\\n",
    "      &=& \\frac{\\mathbf{w}^T(\\mathbf{m}_2 - \\mathbf{m}_1)(\\mathbf{m}_2 - \\mathbf{m}_1)^T\\mathbf{w}}{\\sum_{n \\in C_1} (\\mathbf{w}^T\\mathbf{x}_n - m_1)^2 + \\sum_{n \\in C_2} (\\mathbf{w}^T\\mathbf{x}_n - m_2)^2}\\\\\n",
    "\t  &=& \\frac{\\mathbf{w}^T(\\mathbf{m}_2 - \\mathbf{m}_1)(\\mathbf{m}_2 - \\mathbf{m}_1)^T\\mathbf{w}}{\\mathbf{w}^T\\left(\\sum_{n \\in C_1} (\\mathbf{x}_n - \\mathbf{m}_1)(\\mathbf{x}_n - \\mathbf{m}_1)^T + \\sum_{n \\in C_2} (\\mathbf{x}_n - \\mathbf{m}_2)(\\mathbf{x}_n - \\mathbf{m}_2)^T\\right)\\mathbf{w}}\\\\\n",
    "\t  &=& \\frac{\\mathbf{w}^T\\mathbf{S}_B\\mathbf{w}}{\\mathbf{w}^T\\mathbf{S}_W\\mathbf{w}}\n",
    "\\end{eqnarray}\n",
    "\n",
    "* Ok, so lets optimize\n",
    "\n",
    "\\begin{eqnarray}\n",
    "\\frac{\\partial J(\\mathbf{w})}{\\partial \\mathbf{w}} &=& \\frac{2(\\mathbf{w}^T\\mathbf{S}_W\\mathbf{w})\\mathbf{S}_B\\mathbf{w} - 2(\\mathbf{w}^T\\mathbf{S}_B\\mathbf{w})\\mathbf{S}_W\\mathbf{w}}{(\\mathbf{w}^T\\mathbf{S}_W\\mathbf{w})^2} = 0 \\\\\n",
    "0 &=& \\ \\frac{\\mathbf{S}_B\\mathbf{w}}{(\\mathbf{w}^T\\mathbf{S}_W\\mathbf{w})} -\\frac{(\\mathbf{w}^T\\mathbf{S}_B\\mathbf{w})\\mathbf{S}_W\\mathbf{w}}{(\\mathbf{w}^T\\mathbf{S}_W\\mathbf{w})^2} \\\\\n",
    " (\\mathbf{w}^T\\mathbf{S}_W\\mathbf{w})\\mathbf{S}_B\\mathbf{w} &=& (\\mathbf{w}^T\\mathbf{S}_B\\mathbf{w})\\mathbf{S}_W\\mathbf{w} \\\\\n",
    " \\mathbf{S}_W^{-1}\\mathbf{S}_B\\mathbf{w} &=& \\lambda\\mathbf{w}\n",
    "\\end{eqnarray}\n",
    "\n",
    "where the scalar $\\lambda = \\frac{\\mathbf{w}^T\\mathbf{S}_B\\mathbf{w}} { \\mathbf{w}^T\\mathbf{S}_W\\mathbf{w}}$\n",
    "\n",
    "* *Does this look familiar?* This is the eigenvalue/eigenvector equation."
   ]
  },
  {
   "cell_type": "markdown",
   "metadata": {},
   "source": [
    "## Eigenvalues and Eigenvectors\n",
    "\n",
    "* For a square matrix $\\mathbf{A}$ of size $M\\times M$, the eigenvector equation is:\n",
    "\\begin{equation}\n",
    "\\mathbf{A}\\mathbf{u}_i = \\lambda\\mathbf{u}_i\n",
    "\\end{equation}\n",
    "* This can be viewed as a set of $M$ linear equations with the condition (i.e., the *characteristic equation*:\n",
    "\\begin{equation}\n",
    "|\\mathbf{A} - \\lambda_i\\mathbf{I}| = 0\n",
    "\\end{equation}\n",
    "* Eigenvalues and eigenvectors play a big role in this course and this area.  We will return to this topic repeatedly. \n",
    "* For now, we can recognize the equation and know that there are many solvers that will provide the eigenvalues and orthogonal eigenvectors for a matrix. \n"
   ]
  },
  {
   "cell_type": "markdown",
   "metadata": {},
   "source": [
    "## Reading Assignment\n",
    "\n",
    "* Section 4.1.7\n",
    "* Section 5.1"
   ]
  },
  {
   "cell_type": "code",
   "execution_count": 2,
   "metadata": {
    "collapsed": true
   },
   "outputs": [],
   "source": [
    "import numpy as np\n",
    "import numpy.matlib\n",
    "import matplotlib.pyplot as plt\n",
    "import math \n",
    "\n",
    "def fisherDiscriminant(data,t):\n",
    "\t# compute sb\n",
    "\tdata1 = data[t==0,:]\n",
    "\tdata2 = data[t==1,:]\n",
    "\tmean1 = np.atleast_2d(np.mean(data1,0))\n",
    "\tmean2 = np.atleast_2d(np.mean(data2,0))\n",
    "\tSb  = (mean2 - mean1).T@(mean2 - mean1)\n",
    "\tSw1 = np.dstack([(data1[i,:]-mean1).T@(data1[i,:]-mean1) for i in range(data1.shape[0])])\n",
    "\tSw2 = np.dstack([(data2[i,:]-mean2).T@(data2[i,:]-mean2) for i in range(data2.shape[0])])\n",
    "\tSw = np.sum(Sw1,2) + np.sum(Sw2,2)\n",
    "\t[l, v] = np.linalg.eig(np.linalg.inv(Sw)@Sb)\n",
    "\tdata = v[:,l.argsort()[1]]@data.T\n",
    "\treturn v[:,l.argsort()[1]],data\n"
   ]
  },
  {
   "cell_type": "code",
   "execution_count": 5,
   "metadata": {
    "collapsed": false
   },
   "outputs": [
    {
     "name": "stdout",
     "output_type": "stream",
     "text": [
      "100.0\n"
     ]
    },
    {
     "data": {
      "image/png": "[encoded data removed]",
      "text/plain": [
       "<Figure size 432x288 with 1 Axes>"
      ]
     },
     "metadata": {},
     "output_type": "display_data"
    },
    {
     "data": {
      "image/png": "[encoded data removed]",
      "text/plain": [
       "<Figure size 432x288 with 1 Axes>"
      ]
     },
     "metadata": {},
     "output_type": "display_data"
    }
   ],
   "source": [
    "# Fisher's Linear Discriminant\n",
    "s     = .01\n",
    "mean1 = [0, 0] #mean of class 1\n",
    "mean0 = [1, 1] #mean of class 0\n",
    "cov   = [1,0.01]*np.eye(2) #diagonal covariance\n",
    "print(np.linalg.cond(cov))\n",
    "numPnt1 = 100 #number of points for class1\n",
    "numPnt0 = 100 #number of points for class0\n",
    "data = np.random.multivariate_normal(mean1, cov, numPnt1) #generate points  for class 1\n",
    "t      = np.ones([1,numPnt1]) #labels for class\n",
    "data = np.vstack((data, np.random.multivariate_normal(mean0, cov, numPnt0))) #generate points for class 0\n",
    "t    = np.hstack((t,np.zeros([1,numPnt0])))\n",
    "v,data_t = fisherDiscriminant(data,t[0])\n",
    "fig = plt.figure()\n",
    "plt.scatter(data_t,np.zeros(data_t.shape),c=t[0,:],linewidth=0,s=100)\n",
    "\n",
    "fig = plt.figure()\n",
    "plt.scatter(data[:,0],data[:,1],c=t[0,:])\n",
    "m = v[1]/v[0]\n",
    "xx = np.arange(np.min(data[:,0])-.1,np.max(data[:,0])+.1,0.01)/m\n",
    "yy = m*xx\n",
    "plt.scatter(xx,yy,linewidth=0,s=5)\n",
    "plt.plot([0,v[0]], [0,v[1]])\n",
    "plt.show()"
   ]
  },
  {
   "cell_type": "code",
   "execution_count": null,
   "metadata": {
    "collapsed": true
   },
   "outputs": [],
   "source": []
  }
 ],
 "metadata": {
  "kernelspec": {
   "display_name": "Python 3",
   "language": "python",
   "name": "python3"
  },
  "language_info": {
   "codemirror_mode": {
    "name": "ipython",
    "version": 3
   },
   "file_extension": ".py",
   "mimetype": "text/x-python",
   "name": "python",
   "nbconvert_exporter": "python",
   "pygments_lexer": "ipython3",
   "version": "3.5.4"
  }
 },
 "nbformat": 4,
 "nbformat_minor": 2
}
